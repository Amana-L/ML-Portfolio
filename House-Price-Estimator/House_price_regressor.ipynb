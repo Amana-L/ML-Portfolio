{
  "nbformat": 4,
  "nbformat_minor": 0,
  "metadata": {
    "colab": {
      "provenance": []
    },
    "kernelspec": {
      "name": "python3",
      "display_name": "Python 3"
    },
    "language_info": {
      "name": "python"
    }
  },
  "cells": [
    {
      "cell_type": "markdown",
      "source": [
        "# Data Collection and Preprocessing\n"
      ],
      "metadata": {
        "id": "q-rLXa416syQ"
      }
    },
    {
      "cell_type": "code",
      "source": [
        "import pandas as pd\n",
        "\n",
        "# read the CSV file into a pandas dataframe\n",
        "df = pd.read_csv('train.csv')\n",
        "print(df)"
      ],
      "metadata": {
        "colab": {
          "base_uri": "https://localhost:8080/"
        },
        "id": "rtUYUJAZpw45",
        "outputId": "ec93a349-01f3-4b4e-a3dc-4018bc42dabf"
      },
      "execution_count": 68,
      "outputs": [
        {
          "output_type": "stream",
          "name": "stdout",
          "text": [
            "        Id  MSSubClass MSZoning  LotFrontage  LotArea Street Alley LotShape  \\\n",
            "0        1          60       RL         65.0     8450   Pave   NaN      Reg   \n",
            "1        2          20       RL         80.0     9600   Pave   NaN      Reg   \n",
            "2        3          60       RL         68.0    11250   Pave   NaN      IR1   \n",
            "3        4          70       RL         60.0     9550   Pave   NaN      IR1   \n",
            "4        5          60       RL         84.0    14260   Pave   NaN      IR1   \n",
            "...    ...         ...      ...          ...      ...    ...   ...      ...   \n",
            "1455  1456          60       RL         62.0     7917   Pave   NaN      Reg   \n",
            "1456  1457          20       RL         85.0    13175   Pave   NaN      Reg   \n",
            "1457  1458          70       RL         66.0     9042   Pave   NaN      Reg   \n",
            "1458  1459          20       RL         68.0     9717   Pave   NaN      Reg   \n",
            "1459  1460          20       RL         75.0     9937   Pave   NaN      Reg   \n",
            "\n",
            "     LandContour Utilities  ... PoolArea PoolQC  Fence MiscFeature MiscVal  \\\n",
            "0            Lvl    AllPub  ...        0    NaN    NaN         NaN       0   \n",
            "1            Lvl    AllPub  ...        0    NaN    NaN         NaN       0   \n",
            "2            Lvl    AllPub  ...        0    NaN    NaN         NaN       0   \n",
            "3            Lvl    AllPub  ...        0    NaN    NaN         NaN       0   \n",
            "4            Lvl    AllPub  ...        0    NaN    NaN         NaN       0   \n",
            "...          ...       ...  ...      ...    ...    ...         ...     ...   \n",
            "1455         Lvl    AllPub  ...        0    NaN    NaN         NaN       0   \n",
            "1456         Lvl    AllPub  ...        0    NaN  MnPrv         NaN       0   \n",
            "1457         Lvl    AllPub  ...        0    NaN  GdPrv        Shed    2500   \n",
            "1458         Lvl    AllPub  ...        0    NaN    NaN         NaN       0   \n",
            "1459         Lvl    AllPub  ...        0    NaN    NaN         NaN       0   \n",
            "\n",
            "     MoSold YrSold  SaleType  SaleCondition  SalePrice  \n",
            "0         2   2008        WD         Normal     208500  \n",
            "1         5   2007        WD         Normal     181500  \n",
            "2         9   2008        WD         Normal     223500  \n",
            "3         2   2006        WD        Abnorml     140000  \n",
            "4        12   2008        WD         Normal     250000  \n",
            "...     ...    ...       ...            ...        ...  \n",
            "1455      8   2007        WD         Normal     175000  \n",
            "1456      2   2010        WD         Normal     210000  \n",
            "1457      5   2010        WD         Normal     266500  \n",
            "1458      4   2010        WD         Normal     142125  \n",
            "1459      6   2008        WD         Normal     147500  \n",
            "\n",
            "[1460 rows x 81 columns]\n"
          ]
        }
      ]
    },
    {
      "cell_type": "code",
      "source": [
        "# Use Pandas to drop all columns (axis = 1) with NaN values\n",
        "# This is a crude way of dealing with it and might be problematic to the accuracy  \n",
        "df = df.dropna(axis = 1)"
      ],
      "metadata": {
        "id": "bor8oOh6WTR0"
      },
      "execution_count": 69,
      "outputs": []
    },
    {
      "cell_type": "code",
      "source": [
        "# select all columns of the object data type (which includes strings)\n",
        "string_columns = df.select_dtypes(include=['object']).columns\n",
        "\n",
        "# display the column names\n",
        "print(string_columns)\n",
        "print(df)"
      ],
      "metadata": {
        "colab": {
          "base_uri": "https://localhost:8080/"
        },
        "id": "mgBDAjdeuKy_",
        "outputId": "9ddf9dcc-1e86-4b6e-ce8a-18ebf10828d2"
      },
      "execution_count": 70,
      "outputs": [
        {
          "output_type": "stream",
          "name": "stdout",
          "text": [
            "Index(['MSZoning', 'Street', 'LotShape', 'LandContour', 'Utilities',\n",
            "       'LotConfig', 'LandSlope', 'Neighborhood', 'Condition1', 'Condition2',\n",
            "       'BldgType', 'HouseStyle', 'RoofStyle', 'RoofMatl', 'Exterior1st',\n",
            "       'Exterior2nd', 'ExterQual', 'ExterCond', 'Foundation', 'Heating',\n",
            "       'HeatingQC', 'CentralAir', 'KitchenQual', 'Functional', 'PavedDrive',\n",
            "       'SaleType', 'SaleCondition'],\n",
            "      dtype='object')\n",
            "        Id  MSSubClass MSZoning  LotArea Street LotShape LandContour  \\\n",
            "0        1          60       RL     8450   Pave      Reg         Lvl   \n",
            "1        2          20       RL     9600   Pave      Reg         Lvl   \n",
            "2        3          60       RL    11250   Pave      IR1         Lvl   \n",
            "3        4          70       RL     9550   Pave      IR1         Lvl   \n",
            "4        5          60       RL    14260   Pave      IR1         Lvl   \n",
            "...    ...         ...      ...      ...    ...      ...         ...   \n",
            "1455  1456          60       RL     7917   Pave      Reg         Lvl   \n",
            "1456  1457          20       RL    13175   Pave      Reg         Lvl   \n",
            "1457  1458          70       RL     9042   Pave      Reg         Lvl   \n",
            "1458  1459          20       RL     9717   Pave      Reg         Lvl   \n",
            "1459  1460          20       RL     9937   Pave      Reg         Lvl   \n",
            "\n",
            "     Utilities LotConfig LandSlope  ... EnclosedPorch 3SsnPorch ScreenPorch  \\\n",
            "0       AllPub    Inside       Gtl  ...             0         0           0   \n",
            "1       AllPub       FR2       Gtl  ...             0         0           0   \n",
            "2       AllPub    Inside       Gtl  ...             0         0           0   \n",
            "3       AllPub    Corner       Gtl  ...           272         0           0   \n",
            "4       AllPub       FR2       Gtl  ...             0         0           0   \n",
            "...        ...       ...       ...  ...           ...       ...         ...   \n",
            "1455    AllPub    Inside       Gtl  ...             0         0           0   \n",
            "1456    AllPub    Inside       Gtl  ...             0         0           0   \n",
            "1457    AllPub    Inside       Gtl  ...             0         0           0   \n",
            "1458    AllPub    Inside       Gtl  ...           112         0           0   \n",
            "1459    AllPub    Inside       Gtl  ...             0         0           0   \n",
            "\n",
            "     PoolArea MiscVal  MoSold  YrSold  SaleType  SaleCondition SalePrice  \n",
            "0           0       0       2    2008        WD         Normal    208500  \n",
            "1           0       0       5    2007        WD         Normal    181500  \n",
            "2           0       0       9    2008        WD         Normal    223500  \n",
            "3           0       0       2    2006        WD        Abnorml    140000  \n",
            "4           0       0      12    2008        WD         Normal    250000  \n",
            "...       ...     ...     ...     ...       ...            ...       ...  \n",
            "1455        0       0       8    2007        WD         Normal    175000  \n",
            "1456        0       0       2    2010        WD         Normal    210000  \n",
            "1457        0    2500       5    2010        WD         Normal    266500  \n",
            "1458        0       0       4    2010        WD         Normal    142125  \n",
            "1459        0       0       6    2008        WD         Normal    147500  \n",
            "\n",
            "[1460 rows x 62 columns]\n"
          ]
        }
      ]
    },
    {
      "cell_type": "code",
      "source": [
        "# The columns containing strings were separated in order for them to be assigned categories\n",
        "#   to better integrate with the model\n",
        "from sklearn import preprocessing\n",
        "\n",
        "enc = preprocessing.OrdinalEncoder()\n",
        "\n",
        "for i in string_columns:\n",
        "\n",
        "  new = enc.fit_transform(df[[i]])\n",
        "\n",
        "  df[[i]] = new\n"
      ],
      "metadata": {
        "id": "7-Dilo0xvDIt"
      },
      "execution_count": 71,
      "outputs": []
    },
    {
      "cell_type": "code",
      "source": [
        "# seperation of features and target variable\n",
        "y = df[['SalePrice']]\n",
        "X = df.drop('SalePrice', axis=1)\n",
        "print(X)    # note it now contains 61 columns (features)"
      ],
      "metadata": {
        "colab": {
          "base_uri": "https://localhost:8080/"
        },
        "id": "AlXKHU6RVIEe",
        "outputId": "41aedf5e-3df6-4b53-96a1-f0af4a7d8fb6"
      },
      "execution_count": 72,
      "outputs": [
        {
          "output_type": "stream",
          "name": "stdout",
          "text": [
            "        Id  MSSubClass  MSZoning  LotArea  Street  LotShape  LandContour  \\\n",
            "0        1          60       3.0     8450     1.0       3.0          3.0   \n",
            "1        2          20       3.0     9600     1.0       3.0          3.0   \n",
            "2        3          60       3.0    11250     1.0       0.0          3.0   \n",
            "3        4          70       3.0     9550     1.0       0.0          3.0   \n",
            "4        5          60       3.0    14260     1.0       0.0          3.0   \n",
            "...    ...         ...       ...      ...     ...       ...          ...   \n",
            "1455  1456          60       3.0     7917     1.0       3.0          3.0   \n",
            "1456  1457          20       3.0    13175     1.0       3.0          3.0   \n",
            "1457  1458          70       3.0     9042     1.0       3.0          3.0   \n",
            "1458  1459          20       3.0     9717     1.0       3.0          3.0   \n",
            "1459  1460          20       3.0     9937     1.0       3.0          3.0   \n",
            "\n",
            "      Utilities  LotConfig  LandSlope  ...  OpenPorchSF  EnclosedPorch  \\\n",
            "0           0.0        4.0        0.0  ...           61              0   \n",
            "1           0.0        2.0        0.0  ...            0              0   \n",
            "2           0.0        4.0        0.0  ...           42              0   \n",
            "3           0.0        0.0        0.0  ...           35            272   \n",
            "4           0.0        2.0        0.0  ...           84              0   \n",
            "...         ...        ...        ...  ...          ...            ...   \n",
            "1455        0.0        4.0        0.0  ...           40              0   \n",
            "1456        0.0        4.0        0.0  ...            0              0   \n",
            "1457        0.0        4.0        0.0  ...           60              0   \n",
            "1458        0.0        4.0        0.0  ...            0            112   \n",
            "1459        0.0        4.0        0.0  ...           68              0   \n",
            "\n",
            "      3SsnPorch  ScreenPorch  PoolArea  MiscVal  MoSold  YrSold  SaleType  \\\n",
            "0             0            0         0        0       2    2008       8.0   \n",
            "1             0            0         0        0       5    2007       8.0   \n",
            "2             0            0         0        0       9    2008       8.0   \n",
            "3             0            0         0        0       2    2006       8.0   \n",
            "4             0            0         0        0      12    2008       8.0   \n",
            "...         ...          ...       ...      ...     ...     ...       ...   \n",
            "1455          0            0         0        0       8    2007       8.0   \n",
            "1456          0            0         0        0       2    2010       8.0   \n",
            "1457          0            0         0     2500       5    2010       8.0   \n",
            "1458          0            0         0        0       4    2010       8.0   \n",
            "1459          0            0         0        0       6    2008       8.0   \n",
            "\n",
            "      SaleCondition  \n",
            "0               4.0  \n",
            "1               4.0  \n",
            "2               4.0  \n",
            "3               0.0  \n",
            "4               4.0  \n",
            "...             ...  \n",
            "1455            4.0  \n",
            "1456            4.0  \n",
            "1457            4.0  \n",
            "1458            4.0  \n",
            "1459            4.0  \n",
            "\n",
            "[1460 rows x 61 columns]\n"
          ]
        }
      ]
    },
    {
      "cell_type": "markdown",
      "source": [
        "# Model Selection and Training"
      ],
      "metadata": {
        "id": "PJi8NnVW8L_P"
      }
    },
    {
      "cell_type": "code",
      "source": [
        "from sklearn.ensemble import RandomForestRegressor\n",
        "from sklearn.model_selection import train_test_split\n",
        "from sklearn.metrics import log_loss\n",
        "\n",
        "# Split the data into training and test sets\n",
        "X_train, X_test, y_train, y_test = train_test_split(X, y, test_size=0.2, random_state=42)\n",
        "\n",
        "# Create a Random Forest regressor with 100 trees\n",
        "rf = RandomForestRegressor(n_estimators=100, random_state=42)\n",
        "\n",
        "# Train the model on the training data\n",
        "rf.fit(X_train, y_train)\n",
        "\n",
        "# Make predictions on the test data\n",
        "y_pred = rf.predict(X_test)\n"
      ],
      "metadata": {
        "colab": {
          "base_uri": "https://localhost:8080/"
        },
        "id": "1HiBv_4qVI8u",
        "outputId": "15e71d8f-a859-4063-9e48-f54268e3bd1f"
      },
      "execution_count": 73,
      "outputs": [
        {
          "output_type": "stream",
          "name": "stderr",
          "text": [
            "<ipython-input-73-81bf793ec0f8>:12: DataConversionWarning: A column-vector y was passed when a 1d array was expected. Please change the shape of y to (n_samples,), for example using ravel().\n",
            "  rf.fit(X_train, y_train)\n"
          ]
        }
      ]
    },
    {
      "cell_type": "markdown",
      "source": [
        "# Model Evaluation\n",
        "\n",
        "Mean Squared Error (MSE) and Mean Absolute Error (MAE) do *not* provide a relative understanding of the error margin of the model. \n",
        "\n",
        "We use the following simple methods to understand this."
      ],
      "metadata": {
        "id": "Q6bU4pCl8T_V"
      }
    },
    {
      "cell_type": "code",
      "source": [
        "# Convert y_test from pandas Dataframe to numpy array\n",
        "arr = y_test['SalePrice'].values\n",
        "\n",
        "# Make a list of the differences between each value of y_test and y_pred\n",
        "diff = []\n",
        "for i in range(len(arr)):\n",
        "  c = abs(arr[i] - y_pred[i])\n",
        "  diff.append(c)\n",
        "\n",
        "print(diff)\n"
      ],
      "metadata": {
        "colab": {
          "base_uri": "https://localhost:8080/"
        },
        "id": "qM7IFG6w4k4l",
        "outputId": "1e5aa4f4-df48-4485-83eb-98e611770d0a"
      },
      "execution_count": 74,
      "outputs": [
        {
          "output_type": "stream",
          "name": "stdout",
          "text": [
            "[13415.75, 14208.299999999988, 5474.75, 12232.799999999988, 3822.640000000014, 10808.0, 100407.01000000001, 4479.399999999994, 1491.320000000007, 275.0, 13011.0, 8180.919999999998, 28258.5, 2456.709999999992, 2229.0, 2827.0, 12177.01000000001, 1017.0, 562.0, 18712.600000000006, 653.0799999999872, 10232.679999999993, 4173.5899999999965, 568.1699999999983, 4485.8399999999965, 19095.899999999994, 3620.670000000013, 32131.0, 3916.899999999994, 14003.660000000003, 5647.0, 36385.75, 18381.589999999997, 23521.0, 5415.309999999998, 3252.0, 115.26000000000931, 14011.5, 7462.739999999991, 7616.779999999999, 8056.5, 34006.48000000001, 2199.0800000000017, 108410.25, 6627.929999999993, 32036.29999999999, 396.320000000007, 667.429999999993, 71410.94, 2711.790000000008, 4632.5, 330.0, 10799.279999999999, 77128.64000000001, 4422.5, 18634.179999999993, 18673.899999999994, 24471.95000000001, 39518.390000000014, 6997.830000000002, 6585.0, 5506.5, 12198.460000000021, 26653.340000000026, 4227.739999999991, 34160.640000000014, 3725.3699999999953, 23225.840000000026, 23458.119999999995, 9114.0, 13525.549999999988, 3368.1699999999983, 5771.0, 2016.0, 153525.57, 835.0100000000093, 34031.02000000002, 57332.630000000005, 5815.75, 733.6600000000035, 16495.5, 42335.0, 13759.100000000006, 13671.029999999999, 6360.6600000000035, 2785.3699999999953, 11297.869999999995, 6023.049999999988, 16194.0, 20915.609999999986, 9119.470000000001, 7409.899999999994, 1883.0, 39682.91, 16204.619999999995, 7017.239999999991, 19659.540000000008, 18864.600000000006, 14787.98000000001, 13719.5, 13329.5, 17101.5, 17077.079999999987, 14077.579999999987, 9914.130000000005, 10658.640000000014, 12116.630000000005, 13560.26000000001, 2480.899999999994, 52652.5, 5451.0, 6021.050000000003, 8396.25, 840.1700000000128, 738.4899999999907, 6063.5, 5146.0, 11688.5, 45124.32000000001, 4825.700000000012, 11291.399999999994, 8092.0, 9743.299999999988, 24091.630000000005, 98.08999999999651, 8145.020000000004, 1712.3999999999942, 33130.5, 2371.7000000000116, 14521.5, 2291.399999999994, 1834.1300000000047, 6786.7300000000105, 39064.869999999995, 41523.0, 8335.460000000021, 10035.840000000026, 114.5, 4231.8399999999965, 180638.25, 66929.96999999997, 5108.0, 3454.899999999994, 23967.339999999997, 3354.8800000000047, 8886.559999999998, 30951.51000000001, 8421.709999999992, 2976.6699999999983, 3710.0, 30547.25, 14588.359999999986, 27773.20000000001, 4390.190000000002, 10946.539999999994, 799.3800000000047, 33055.72, 6098.820000000007, 3954.5, 1060.5, 39035.5, 6444.700000000012, 19091.580000000016, 10255.839999999997, 1713.0, 16460.0, 20764.600000000006, 47893.669999999984, 131713.43, 1876.2699999999895, 7594.820000000007, 2746.4600000000064, 24610.100000000006, 11609.140000000014, 47522.76000000001, 20068.880000000005, 30026.23999999999, 21012.48999999999, 7928.169999999998, 9017.829999999987, 21293.5, 38027.0, 5082.0, 1713.8999999999942, 14160.330000000016, 18134.5, 27253.599999999977, 40077.350000000006, 10971.940000000002, 13006.0, 2087.1600000000035, 11059.25, 38721.5, 24642.26000000001, 9383.73999999999, 65188.91, 24997.79999999999, 56533.08, 37479.31, 47755.5, 52336.380000000005, 10911.049999999988, 13885.48000000001, 15210.76000000001, 5214.700000000012, 7903.8399999999965, 2522.3800000000047, 4641.0, 7518.899999999994, 3064.0, 4744.440000000002, 2456.720000000001, 7083.75, 9389.529999999999, 66851.94, 19572.73999999999, 8404.149999999994, 1841.75, 5910.25, 11264.579999999987, 4370.399999999994, 28976.51000000001, 30840.130000000005, 36724.0, 32914.880000000005, 4924.5, 36363.0, 48939.0, 4748.679999999993, 8155.5, 25838.5, 16396.649999999994, 0.8300000000017462, 6892.0, 21511.329999999987, 11907.600000000006, 1057.6499999999942, 1828.5, 21425.23000000001, 22274.5, 8455.039999999994, 7748.299999999988, 15370.549999999988, 43069.72999999998, 283.0, 15221.25, 9158.5, 16625.26000000001, 9059.0, 8406.5, 18011.350000000006, 10452.200000000012, 3401.570000000007, 13685.080000000002, 15209.5, 14856.970000000001, 5615.029999999999, 9869.5, 847.9599999999919, 35040.25, 85449.51000000001, 3112.6300000000047, 2527.070000000007, 56090.899999999994, 63878.53, 8473.399999999994, 15810.75, 3109.0, 8864.830000000002, 11043.029999999999, 77617.54999999999, 35461.619999999995, 15304.799999999988, 30737.679999999993, 3200.1399999999994, 7739.299999999988, 1414.7999999999884, 6836.179999999993, 56337.70000000001, 8126.369999999995, 18252.329999999987, 5571.0, 3197.579999999987, 3413.0399999999936, 13054.929999999993, 15153.450000000012, 9127.950000000012, 31236.0, 23652.179999999993, 10888.25, 27030.109999999986, 7053.399999999994]\n"
          ]
        }
      ]
    },
    {
      "cell_type": "code",
      "source": [
        "import matplotlib.pyplot as plt\n",
        "import seaborn as sns\n",
        "\n",
        "# Generate x-coordinates for the data using the range() function\n",
        "x_coords = range(len(diff))\n",
        "\n",
        "# Use a built-in style sheet to change the plot style\n",
        "plt.style.use('seaborn')\n",
        "\n",
        "# Create a scatter plot of the data using matplotlib\n",
        "plt.scatter(x_coords, diff, s=50, c='teal', alpha=0.5)\n",
        "\n",
        "# Add axis labels to the plot\n",
        "plt.xlabel('Index')\n",
        "plt.ylabel('Data')\n",
        "\n",
        "# Show the plot\n",
        "plt.show()\n"
      ],
      "metadata": {
        "colab": {
          "base_uri": "https://localhost:8080/",
          "height": 558
        },
        "id": "zmi-BQTA1sLl",
        "outputId": "602b9d15-5b70-4a41-a832-faae498bcf46"
      },
      "execution_count": 83,
      "outputs": [
        {
          "output_type": "stream",
          "name": "stderr",
          "text": [
            "<ipython-input-83-fbfaa442a79a>:8: MatplotlibDeprecationWarning: The seaborn styles shipped by Matplotlib are deprecated since 3.6, as they no longer correspond to the styles shipped by seaborn. However, they will remain available as 'seaborn-v0_8-<style>'. Alternatively, directly use the seaborn API instead.\n",
            "  plt.style.use('seaborn')\n"
          ]
        },
        {
          "output_type": "display_data",
          "data": {
            "text/plain": [
              "<Figure size 800x550 with 1 Axes>"
            ],
            "image/png": "[encoded data removed]"
          },
          "metadata": {}
        }
      ]
    },
    {
      "cell_type": "markdown",
      "source": [
        "As can be seen from the plot, the majority of the points gather towards the bottom indicating minimal difference between the predicted and the true values of the Sale Price. \n",
        "\n",
        "**Outliers**:\n",
        "There are a few outliers that can be attributed as anomalies or perhaps one of the columns deleted initially due to having NaN values may have played a significant role in the valuation of the anomalous homes."
      ],
      "metadata": {
        "id": "ls_l_Ahv9bwF"
      }
    },
    {
      "cell_type": "code",
      "source": [
        "import numpy as np\n",
        "\n",
        "true_avg = np.average(y_test)\n",
        "\n",
        "diff_avg = np.average(diff)\n",
        "\n",
        "probability_of_success = 1 - (diff_avg / true_avg)\n",
        "\n",
        "print(probability_of_success)"
      ],
      "metadata": {
        "colab": {
          "base_uri": "https://localhost:8080/"
        },
        "id": "2lTXUUZp6XSn",
        "outputId": "56d5068b-b3b3-4d9c-d668-c289a6e23f98"
      },
      "execution_count": 77,
      "outputs": [
        {
          "output_type": "stream",
          "name": "stdout",
          "text": [
            "0.9011114295001698\n"
          ]
        }
      ]
    }
  ]
}